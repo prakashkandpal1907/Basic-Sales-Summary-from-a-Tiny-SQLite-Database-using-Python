{
  "nbformat": 4,
  "nbformat_minor": 0,
  "metadata": {
    "colab": {
      "provenance": []
    },
    "kernelspec": {
      "name": "python3",
      "display_name": "Python 3"
    },
    "language_info": {
      "name": "python"
    }
  },
  "cells": [
    {
      "cell_type": "code",
      "execution_count": 1,
      "metadata": {
        "id": "Sur-aA2gogiT"
      },
      "outputs": [],
      "source": [
        "import sqlite3\n",
        "import pandas as pd\n",
        "import matplotlib.pyplot as plt"
      ]
    },
    {
      "cell_type": "code",
      "source": [
        "# Step 1: Create SQLite DB and connect\n",
        "conn = sqlite3.connect('sales_data.db')\n",
        "cursor = conn.cursor()"
      ],
      "metadata": {
        "id": "pZvpuNgTokqL"
      },
      "execution_count": 2,
      "outputs": []
    },
    {
      "cell_type": "code",
      "source": [
        "# Step 2: Create sales table\n",
        "cursor.execute('''\n",
        "CREATE TABLE IF NOT EXISTS sales (\n",
        "    product TEXT,\n",
        "    quantity INTEGER,\n",
        "    price REAL\n",
        ")\n",
        "''')"
      ],
      "metadata": {
        "colab": {
          "base_uri": "https://localhost:8080/"
        },
        "id": "iXcNTCFuonxG",
        "outputId": "92e25720-27b6-4a0d-8f22-3d2e080257cb"
      },
      "execution_count": 3,
      "outputs": [
        {
          "output_type": "execute_result",
          "data": {
            "text/plain": [
              "<sqlite3.Cursor at 0x79f1d5fad240>"
            ]
          },
          "metadata": {},
          "execution_count": 3
        }
      ]
    },
    {
      "cell_type": "code",
      "source": [
        "# Step 3: Insert sample data\n",
        "sample_data = [\n",
        "    ('Product A', 10, 15.0),\n",
        "    ('Product B', 5, 30.0),\n",
        "    ('Product A', 3, 15.0),\n",
        "    ('Product C', 8, 12.5),\n",
        "    ('Product B', 2, 30.0),\n",
        "    ('Product C', 5, 12.5)\n",
        "]\n",
        "\n",
        "cursor.executemany('INSERT INTO sales (product, quantity, price) VALUES (?, ?, ?)', sample_data)\n",
        "conn.commit()"
      ],
      "metadata": {
        "id": "Pd51v2mEouCq"
      },
      "execution_count": 4,
      "outputs": []
    },
    {
      "cell_type": "code",
      "source": [
        "# Step 4: SQL query to summarize sales\n",
        "query = '''\n",
        "SELECT\n",
        "    product,\n",
        "    SUM(quantity) AS total_quantity,\n",
        "    SUM(quantity * price) AS total_revenue\n",
        "FROM sales\n",
        "GROUP BY product\n",
        "'''\n"
      ],
      "metadata": {
        "id": "_J38Ry5VoxEz"
      },
      "execution_count": 5,
      "outputs": []
    },
    {
      "cell_type": "code",
      "source": [
        "# Step 5: Load result into pandas DataFrame\n",
        "df = pd.read_sql_query(query, conn)\n",
        "print(\"Sales Summary:\")\n",
        "print(df)\n"
      ],
      "metadata": {
        "colab": {
          "base_uri": "https://localhost:8080/"
        },
        "id": "VyXUA77_o0db",
        "outputId": "9c026df1-e67d-4755-f8ea-b00e8f642475"
      },
      "execution_count": 6,
      "outputs": [
        {
          "output_type": "stream",
          "name": "stdout",
          "text": [
            "Sales Summary:\n",
            "     product  total_quantity  total_revenue\n",
            "0  Product A              13          195.0\n",
            "1  Product B               7          210.0\n",
            "2  Product C              13          162.5\n"
          ]
        }
      ]
    },
    {
      "cell_type": "code",
      "source": [
        "# Step 6: Plotting bar chart\n",
        "plt.figure(figsize=(8,5))\n",
        "df.plot(kind='bar', x='product', y='total_revenue', legend=False, color='skyblue')\n",
        "plt.title('Revenue by Product')\n",
        "plt.xlabel('Product')\n",
        "plt.ylabel('Revenue')\n",
        "plt.tight_layout()\n",
        "plt.savefig('sales_chart.png')  # Optional: saves the chart as a PNG\n",
        "plt.show()\n"
      ],
      "metadata": {
        "colab": {
          "base_uri": "https://localhost:8080/",
          "height": 504
        },
        "id": "P97pKzy_o24R",
        "outputId": "fa5ce759-b6bc-482e-da7f-7cbf247e63d9"
      },
      "execution_count": 7,
      "outputs": [
        {
          "output_type": "display_data",
          "data": {
            "text/plain": [
              "<Figure size 800x500 with 0 Axes>"
            ]
          },
          "metadata": {}
        },
        {
          "output_type": "display_data",
          "data": {
            "text/plain": [
              "<Figure size 640x480 with 1 Axes>"
            ],
            "image/png": "[encoded data removed]"
          },
          "metadata": {}
        }
      ]
    },
    {
      "cell_type": "code",
      "source": [
        "# Step 7: Close the DB connection\n",
        "conn.close()\n"
      ],
      "metadata": {
        "id": "m3sXQ1a3o6Bc"
      },
      "execution_count": 8,
      "outputs": []
    },
    {
      "cell_type": "code",
      "source": [],
      "metadata": {
        "id": "WJwxHTl8pBTY"
      },
      "execution_count": null,
      "outputs": []
    }
  ]
}